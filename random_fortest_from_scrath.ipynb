{
 "cells": [
  {
   "cell_type": "code",
   "execution_count": 1,
   "id": "1e8cacb5-b0b7-4efb-b8cc-c6711be2782b",
   "metadata": {},
   "outputs": [],
   "source": [
    "import pandas as pd\n",
    "import numpy as np"
   ]
  },
  {
   "cell_type": "code",
   "execution_count": 2,
   "id": "52f67124-c0f7-4694-8917-74ea5739ce07",
   "metadata": {},
   "outputs": [],
   "source": [
    "categorical = pd.read_csv('./files_for_lab/categorical.csv')\n",
    "numerical = pd.read_csv('./files_for_lab/numerical.csv')\n",
    "targets = pd.read_csv('./files_for_lab/target.csv')"
   ]
  },
  {
   "cell_type": "code",
   "execution_count": 3,
   "id": "36d4651e-02de-4be4-a49d-32bd992dcd50",
   "metadata": {},
   "outputs": [
    {
     "data": {
      "text/plain": [
       "(95412, 22)"
      ]
     },
     "execution_count": 3,
     "metadata": {},
     "output_type": "execute_result"
    }
   ],
   "source": [
    "categorical.shape"
   ]
  },
  {
   "cell_type": "code",
   "execution_count": 4,
   "id": "1f0b0eb5-7f2d-4659-8da1-fcfe0a41d572",
   "metadata": {},
   "outputs": [
    {
     "data": {
      "text/plain": [
       "(95412, 315)"
      ]
     },
     "execution_count": 4,
     "metadata": {},
     "output_type": "execute_result"
    }
   ],
   "source": [
    "numerical.shape"
   ]
  },
  {
   "cell_type": "code",
   "execution_count": 5,
   "id": "b452d3bc-acd7-4c3f-8caa-4754343c8501",
   "metadata": {},
   "outputs": [
    {
     "data": {
      "text/plain": [
       "(95412, 2)"
      ]
     },
     "execution_count": 5,
     "metadata": {},
     "output_type": "execute_result"
    }
   ],
   "source": [
    "targets.shape"
   ]
  },
  {
   "cell_type": "code",
   "execution_count": null,
   "id": "3d3ca2ca-2859-4372-b0e6-a1677bc8a67e",
   "metadata": {},
   "outputs": [],
   "source": []
  },
  {
   "cell_type": "markdown",
   "id": "85e05cb3-8579-42f1-b29b-110dd7cae922",
   "metadata": {},
   "source": [
    "TOO MANY FEATURES > FEATURE SELECTION"
   ]
  },
  {
   "cell_type": "code",
   "execution_count": 6,
   "id": "82f815b7-b5f8-401e-bbb9-e749b733a81c",
   "metadata": {},
   "outputs": [],
   "source": [
    "from sklearn.preprocessing import MinMaxScaler\n",
    "\n",
    "scaler = MinMaxScaler()\n",
    "scaler.fit(numerical)\n",
    "numerical_scaled = scaler.transform(numerical)\n",
    "numerical_scaled_df = pd.DataFrame(numerical_scaled, columns=numerical.columns)\n"
   ]
  },
  {
   "cell_type": "code",
   "execution_count": 7,
   "id": "b63090f6-a200-4b9a-b9d1-b8d32066b4da",
   "metadata": {},
   "outputs": [
    {
     "name": "stdout",
     "output_type": "stream",
     "text": [
      "(95412, 315)\n",
      "(95412, 79)\n"
     ]
    }
   ],
   "source": [
    "from sklearn.feature_selection import VarianceThreshold \n",
    "var_threshold = 0.02\n",
    "sel = VarianceThreshold(threshold=(var_threshold))\n",
    "\n",
    "sel = sel.fit(numerical_scaled)\n",
    "temp = sel.transform(numerical_scaled)\n",
    "temp = pd.DataFrame(temp)\n",
    "print(numerical_scaled.shape)\n",
    "print(temp.shape)"
   ]
  },
  {
   "cell_type": "code",
   "execution_count": 8,
   "id": "b172692b-dfc4-4406-86a4-8952fc4eb049",
   "metadata": {},
   "outputs": [],
   "source": [
    "sel.variances_ > var_threshold\n",
    "sel.get_support()\n",
    "var_list = list(sel.get_support())"
   ]
  },
  {
   "cell_type": "code",
   "execution_count": 9,
   "id": "ea411808-2694-4f1d-a4e0-634da5b02f05",
   "metadata": {
    "scrolled": true,
    "tags": []
   },
   "outputs": [
    {
     "data": {
      "text/plain": [
       "[('TCODE', False),\n",
       " ('AGE', True),\n",
       " ('INCOME', True),\n",
       " ('WEALTH1', True),\n",
       " ('HIT', False),\n",
       " ('MALEMILI', False),\n",
       " ('MALEVET', False),\n",
       " ('VIETVETS', True),\n",
       " ('WWIIVETS', True),\n",
       " ('LOCALGOV', False),\n",
       " ('STATEGOV', False),\n",
       " ('FEDGOV', False),\n",
       " ('WEALTH2', True),\n",
       " ('POP901', False),\n",
       " ('POP902', False),\n",
       " ('POP903', False),\n",
       " ('POP90C1', True),\n",
       " ('POP90C2', True),\n",
       " ('POP90C3', True),\n",
       " ('POP90C4', False),\n",
       " ('POP90C5', False),\n",
       " ('ETH1', True),\n",
       " ('ETH2', True),\n",
       " ('ETH3', False),\n",
       " ('ETH4', False),\n",
       " ('ETH5', False),\n",
       " ('ETH6', False),\n",
       " ('ETH7', False),\n",
       " ('ETH8', False),\n",
       " ('ETH9', False),\n",
       " ('ETH10', False),\n",
       " ('ETH11', False),\n",
       " ('ETH12', False),\n",
       " ('ETH13', False),\n",
       " ('ETH14', False),\n",
       " ('ETH15', False),\n",
       " ('ETH16', False),\n",
       " ('AGE901', False),\n",
       " ('AGE902', False),\n",
       " ('AGE903', False),\n",
       " ('AGE904', False),\n",
       " ('AGE905', False),\n",
       " ('AGE906', False),\n",
       " ('AGE907', False),\n",
       " ('CHIL1', False),\n",
       " ('CHIL2', False),\n",
       " ('CHIL3', False),\n",
       " ('AGEC1', False),\n",
       " ('AGEC2', False),\n",
       " ('AGEC3', False),\n",
       " ('AGEC4', False),\n",
       " ('AGEC5', False),\n",
       " ('AGEC6', False),\n",
       " ('AGEC7', False),\n",
       " ('CHILC1', False),\n",
       " ('CHILC2', False),\n",
       " ('CHILC3', False),\n",
       " ('CHILC4', False),\n",
       " ('CHILC5', False),\n",
       " ('HHAGE1', False),\n",
       " ('HHAGE2', False),\n",
       " ('HHAGE3', False),\n",
       " ('HHN1', False),\n",
       " ('HHN2', False),\n",
       " ('HHN3', True),\n",
       " ('HHN4', False),\n",
       " ('HHN5', False),\n",
       " ('HHN6', False),\n",
       " ('MARR1', False),\n",
       " ('MARR2', False),\n",
       " ('MARR3', False),\n",
       " ('MARR4', False),\n",
       " ('HHP1', False),\n",
       " ('HHP2', False),\n",
       " ('DW1', True),\n",
       " ('DW2', True),\n",
       " ('DW3', False),\n",
       " ('DW4', True),\n",
       " ('DW5', True),\n",
       " ('DW6', True),\n",
       " ('DW7', False),\n",
       " ('DW8', False),\n",
       " ('DW9', False),\n",
       " ('HV1', True),\n",
       " ('HV2', True),\n",
       " ('HV3', True),\n",
       " ('HV4', True),\n",
       " ('HU1', True),\n",
       " ('HU2', True),\n",
       " ('HU3', False),\n",
       " ('HU4', False),\n",
       " ('HU5', True),\n",
       " ('HHD1', False),\n",
       " ('HHD2', True),\n",
       " ('HHD3', True),\n",
       " ('HHD4', False),\n",
       " ('HHD5', True),\n",
       " ('HHD6', False),\n",
       " ('HHD7', False),\n",
       " ('HHD8', False),\n",
       " ('HHD9', False),\n",
       " ('HHD10', False),\n",
       " ('HHD11', False),\n",
       " ('HHD12', False),\n",
       " ('ETHC1', False),\n",
       " ('ETHC2', True),\n",
       " ('ETHC3', False),\n",
       " ('ETHC4', False),\n",
       " ('ETHC5', False),\n",
       " ('ETHC6', False),\n",
       " ('HVP1', True),\n",
       " ('HVP2', True),\n",
       " ('HVP3', True),\n",
       " ('HVP4', True),\n",
       " ('HVP5', True),\n",
       " ('HVP6', True),\n",
       " ('HUR1', False),\n",
       " ('HUR2', True),\n",
       " ('RHP1', False),\n",
       " ('RHP2', False),\n",
       " ('RHP3', False),\n",
       " ('RHP4', False),\n",
       " ('HUPA1', False),\n",
       " ('HUPA2', True),\n",
       " ('HUPA3', True),\n",
       " ('HUPA4', False),\n",
       " ('HUPA5', False),\n",
       " ('HUPA6', True),\n",
       " ('HUPA7', False),\n",
       " ('RP1', True),\n",
       " ('RP2', True),\n",
       " ('RP3', True),\n",
       " ('RP4', True),\n",
       " ('MSA', True),\n",
       " ('ADI', True),\n",
       " ('DMA', False),\n",
       " ('IC1', False),\n",
       " ('IC2', False),\n",
       " ('IC3', False),\n",
       " ('IC4', False),\n",
       " ('IC5', False),\n",
       " ('IC6', True),\n",
       " ('IC7', False),\n",
       " ('IC8', False),\n",
       " ('IC9', False),\n",
       " ('IC10', False),\n",
       " ('IC11', False),\n",
       " ('IC12', False),\n",
       " ('IC13', False),\n",
       " ('IC14', False),\n",
       " ('IC15', False),\n",
       " ('IC16', False),\n",
       " ('IC17', False),\n",
       " ('IC18', False),\n",
       " ('IC19', False),\n",
       " ('IC20', False),\n",
       " ('IC21', False),\n",
       " ('IC22', False),\n",
       " ('IC23', False),\n",
       " ('HHAS1', False),\n",
       " ('HHAS2', False),\n",
       " ('HHAS3', True),\n",
       " ('HHAS4', False),\n",
       " ('MC1', True),\n",
       " ('MC2', True),\n",
       " ('MC3', False),\n",
       " ('TPE1', False),\n",
       " ('TPE2', False),\n",
       " ('TPE3', False),\n",
       " ('TPE4', False),\n",
       " ('TPE5', False),\n",
       " ('TPE6', False),\n",
       " ('TPE7', False),\n",
       " ('TPE8', False),\n",
       " ('TPE9', False),\n",
       " ('PEC1', False),\n",
       " ('PEC2', True),\n",
       " ('TPE10', False),\n",
       " ('TPE11', False),\n",
       " ('TPE12', False),\n",
       " ('TPE13', True),\n",
       " ('LFC1', False),\n",
       " ('LFC2', True),\n",
       " ('LFC3', False),\n",
       " ('LFC4', True),\n",
       " ('LFC5', False),\n",
       " ('LFC6', True),\n",
       " ('LFC7', True),\n",
       " ('LFC8', True),\n",
       " ('LFC9', True),\n",
       " ('LFC10', False),\n",
       " ('OCC1', False),\n",
       " ('OCC2', False),\n",
       " ('OCC3', False),\n",
       " ('OCC4', False),\n",
       " ('OCC5', False),\n",
       " ('OCC6', False),\n",
       " ('OCC7', False),\n",
       " ('OCC8', False),\n",
       " ('OCC9', False),\n",
       " ('OCC10', False),\n",
       " ('OCC11', False),\n",
       " ('OCC12', False),\n",
       " ('OCC13', False),\n",
       " ('EIC1', False),\n",
       " ('EIC2', False),\n",
       " ('EIC3', False),\n",
       " ('EIC4', False),\n",
       " ('EIC5', False),\n",
       " ('EIC6', False),\n",
       " ('EIC7', False),\n",
       " ('EIC8', False),\n",
       " ('EIC9', False),\n",
       " ('EIC10', False),\n",
       " ('EIC11', False),\n",
       " ('EIC12', False),\n",
       " ('EIC13', False),\n",
       " ('EIC14', False),\n",
       " ('EIC15', False),\n",
       " ('EIC16', False),\n",
       " ('OEDC1', False),\n",
       " ('OEDC2', False),\n",
       " ('OEDC3', False),\n",
       " ('OEDC4', False),\n",
       " ('OEDC5', False),\n",
       " ('OEDC6', False),\n",
       " ('OEDC7', False),\n",
       " ('EC1', False),\n",
       " ('EC2', False),\n",
       " ('EC3', False),\n",
       " ('EC4', False),\n",
       " ('EC5', False),\n",
       " ('EC6', False),\n",
       " ('EC7', False),\n",
       " ('EC8', False),\n",
       " ('SEC1', False),\n",
       " ('SEC2', False),\n",
       " ('SEC3', False),\n",
       " ('SEC4', False),\n",
       " ('SEC5', False),\n",
       " ('AFC1', False),\n",
       " ('AFC2', False),\n",
       " ('AFC3', False),\n",
       " ('AFC4', False),\n",
       " ('AFC5', False),\n",
       " ('AFC6', False),\n",
       " ('VC1', True),\n",
       " ('VC2', False),\n",
       " ('VC3', True),\n",
       " ('VC4', False),\n",
       " ('ANC1', False),\n",
       " ('ANC2', False),\n",
       " ('ANC3', False),\n",
       " ('ANC4', False),\n",
       " ('ANC5', False),\n",
       " ('ANC6', False),\n",
       " ('ANC7', False),\n",
       " ('ANC8', False),\n",
       " ('ANC9', False),\n",
       " ('ANC10', False),\n",
       " ('ANC11', False),\n",
       " ('ANC12', False),\n",
       " ('ANC13', False),\n",
       " ('ANC14', False),\n",
       " ('ANC15', False),\n",
       " ('POBC1', False),\n",
       " ('POBC2', True),\n",
       " ('LSC1', True),\n",
       " ('LSC2', False),\n",
       " ('LSC3', False),\n",
       " ('LSC4', False),\n",
       " ('VOC1', False),\n",
       " ('VOC2', True),\n",
       " ('VOC3', False),\n",
       " ('HC1', False),\n",
       " ('HC2', True),\n",
       " ('HC3', False),\n",
       " ('HC4', True),\n",
       " ('HC5', True),\n",
       " ('HC6', True),\n",
       " ('HC7', True),\n",
       " ('HC8', True),\n",
       " ('HC9', False),\n",
       " ('HC10', False),\n",
       " ('HC11', True),\n",
       " ('HC12', False),\n",
       " ('HC13', True),\n",
       " ('HC14', False),\n",
       " ('HC15', False),\n",
       " ('HC16', False),\n",
       " ('HC17', True),\n",
       " ('HC18', True),\n",
       " ('HC19', True),\n",
       " ('HC20', False),\n",
       " ('HC21', False),\n",
       " ('MHUC1', True),\n",
       " ('MHUC2', True),\n",
       " ('AC1', False),\n",
       " ('AC2', False),\n",
       " ('CARDPROM', True),\n",
       " ('NUMPROM', False),\n",
       " ('CARDPM12', False),\n",
       " ('NUMPRM12', False),\n",
       " ('RAMNTALL', False),\n",
       " ('NGIFTALL', False),\n",
       " ('CARDGIFT', False),\n",
       " ('MINRAMNT', False),\n",
       " ('MAXRAMNT', False),\n",
       " ('LASTGIFT', False),\n",
       " ('TIMELAG', False),\n",
       " ('AVGGIFT', False),\n",
       " ('CONTROLN', True),\n",
       " ('HPHONE_D', True),\n",
       " ('RFA_2F', True),\n",
       " ('CLUSTER2', True)]"
      ]
     },
     "execution_count": 9,
     "metadata": {},
     "output_type": "execute_result"
    }
   ],
   "source": [
    "list(zip(numerical.columns, var_list))"
   ]
  },
  {
   "cell_type": "code",
   "execution_count": 10,
   "id": "5a073768-4637-4abd-99e1-fe7c06d3b83d",
   "metadata": {},
   "outputs": [],
   "source": [
    "cols_to_remove = [col[0] for col in zip(numerical.columns, var_list) if col[1] == False]"
   ]
  },
  {
   "cell_type": "code",
   "execution_count": 11,
   "id": "7679f150-08a4-486b-919a-6a2425b0e932",
   "metadata": {},
   "outputs": [],
   "source": [
    "numerical.drop(cols_to_remove, axis=1, inplace=True)"
   ]
  },
  {
   "cell_type": "code",
   "execution_count": 12,
   "id": "e2bc1a1b-7ade-4cd2-a3b9-bcc1d45370ec",
   "metadata": {},
   "outputs": [],
   "source": [
    "correlation_matrix = numerical.corr()"
   ]
  },
  {
   "cell_type": "code",
   "execution_count": 13,
   "id": "c9e69d91-e5b9-4a44-8875-3cbb5cf836d4",
   "metadata": {},
   "outputs": [],
   "source": [
    "columns_to_drop = []\n",
    "n_features = len(numerical.columns)\n",
    "\n",
    "for i in range(n_features):\n",
    "    for j in range(i + 1, n_features):\n",
    "        if abs(correlation_matrix.iloc[i, j]) > 0.85:\n",
    "            column_i = numerical.columns[i]\n",
    "            column_j = numerical.columns[j]\n",
    "\n",
    "            if column_i not in columns_to_drop:\n",
    "                columns_to_drop.append(column_j)"
   ]
  },
  {
   "cell_type": "code",
   "execution_count": 14,
   "id": "6760e794-a669-418c-9e3d-97323bbcf49b",
   "metadata": {},
   "outputs": [],
   "source": [
    "numerical.drop(columns_to_drop, axis=1, inplace=True)"
   ]
  },
  {
   "cell_type": "code",
   "execution_count": 15,
   "id": "23461bc6-2315-4cbd-b665-d41ff4bd16e1",
   "metadata": {},
   "outputs": [
    {
     "data": {
      "text/plain": [
       "(95412, 58)"
      ]
     },
     "execution_count": 15,
     "metadata": {},
     "output_type": "execute_result"
    }
   ],
   "source": [
    "numerical.shape"
   ]
  },
  {
   "cell_type": "code",
   "execution_count": 36,
   "id": "9496fcb6-d998-43f6-a7c3-74737ac0fdde",
   "metadata": {},
   "outputs": [
    {
     "data": {
      "text/html": [
       "<div>\n",
       "<style scoped>\n",
       "    .dataframe tbody tr th:only-of-type {\n",
       "        vertical-align: middle;\n",
       "    }\n",
       "\n",
       "    .dataframe tbody tr th {\n",
       "        vertical-align: top;\n",
       "    }\n",
       "\n",
       "    .dataframe thead th {\n",
       "        text-align: right;\n",
       "    }\n",
       "</style>\n",
       "<table border=\"1\" class=\"dataframe\">\n",
       "  <thead>\n",
       "    <tr style=\"text-align: right;\">\n",
       "      <th></th>\n",
       "      <th>AGE</th>\n",
       "      <th>INCOME</th>\n",
       "      <th>WEALTH1</th>\n",
       "      <th>VIETVETS</th>\n",
       "      <th>WWIIVETS</th>\n",
       "      <th>WEALTH2</th>\n",
       "      <th>POP90C1</th>\n",
       "      <th>POP90C2</th>\n",
       "      <th>POP90C3</th>\n",
       "      <th>ETH1</th>\n",
       "      <th>...</th>\n",
       "      <th>DOB_YR</th>\n",
       "      <th>DOB_MM</th>\n",
       "      <th>MINRDATE_YR</th>\n",
       "      <th>MINRDATE_MM</th>\n",
       "      <th>MAXRDATE_YR</th>\n",
       "      <th>MAXRDATE_MM</th>\n",
       "      <th>LASTDATE_YR</th>\n",
       "      <th>LASTDATE_MM</th>\n",
       "      <th>FIRSTDATE_YR</th>\n",
       "      <th>FIRSTDATE_MM</th>\n",
       "    </tr>\n",
       "  </thead>\n",
       "  <tbody>\n",
       "    <tr>\n",
       "      <th>0</th>\n",
       "      <td>60.000000</td>\n",
       "      <td>5</td>\n",
       "      <td>9</td>\n",
       "      <td>34</td>\n",
       "      <td>18</td>\n",
       "      <td>5</td>\n",
       "      <td>0</td>\n",
       "      <td>35</td>\n",
       "      <td>65</td>\n",
       "      <td>92</td>\n",
       "      <td>...</td>\n",
       "      <td>37</td>\n",
       "      <td>12</td>\n",
       "      <td>92</td>\n",
       "      <td>8</td>\n",
       "      <td>94</td>\n",
       "      <td>2</td>\n",
       "      <td>95</td>\n",
       "      <td>12</td>\n",
       "      <td>89</td>\n",
       "      <td>11</td>\n",
       "    </tr>\n",
       "    <tr>\n",
       "      <th>1</th>\n",
       "      <td>46.000000</td>\n",
       "      <td>6</td>\n",
       "      <td>9</td>\n",
       "      <td>55</td>\n",
       "      <td>11</td>\n",
       "      <td>9</td>\n",
       "      <td>99</td>\n",
       "      <td>0</td>\n",
       "      <td>0</td>\n",
       "      <td>67</td>\n",
       "      <td>...</td>\n",
       "      <td>52</td>\n",
       "      <td>2</td>\n",
       "      <td>93</td>\n",
       "      <td>10</td>\n",
       "      <td>95</td>\n",
       "      <td>12</td>\n",
       "      <td>95</td>\n",
       "      <td>12</td>\n",
       "      <td>93</td>\n",
       "      <td>10</td>\n",
       "    </tr>\n",
       "    <tr>\n",
       "      <th>2</th>\n",
       "      <td>61.611649</td>\n",
       "      <td>3</td>\n",
       "      <td>1</td>\n",
       "      <td>29</td>\n",
       "      <td>33</td>\n",
       "      <td>1</td>\n",
       "      <td>0</td>\n",
       "      <td>2</td>\n",
       "      <td>98</td>\n",
       "      <td>96</td>\n",
       "      <td>...</td>\n",
       "      <td>0</td>\n",
       "      <td>2</td>\n",
       "      <td>91</td>\n",
       "      <td>11</td>\n",
       "      <td>92</td>\n",
       "      <td>7</td>\n",
       "      <td>95</td>\n",
       "      <td>12</td>\n",
       "      <td>90</td>\n",
       "      <td>1</td>\n",
       "    </tr>\n",
       "    <tr>\n",
       "      <th>3</th>\n",
       "      <td>70.000000</td>\n",
       "      <td>1</td>\n",
       "      <td>4</td>\n",
       "      <td>14</td>\n",
       "      <td>31</td>\n",
       "      <td>0</td>\n",
       "      <td>0</td>\n",
       "      <td>8</td>\n",
       "      <td>92</td>\n",
       "      <td>61</td>\n",
       "      <td>...</td>\n",
       "      <td>28</td>\n",
       "      <td>1</td>\n",
       "      <td>87</td>\n",
       "      <td>11</td>\n",
       "      <td>94</td>\n",
       "      <td>11</td>\n",
       "      <td>95</td>\n",
       "      <td>12</td>\n",
       "      <td>87</td>\n",
       "      <td>2</td>\n",
       "    </tr>\n",
       "    <tr>\n",
       "      <th>4</th>\n",
       "      <td>78.000000</td>\n",
       "      <td>3</td>\n",
       "      <td>2</td>\n",
       "      <td>9</td>\n",
       "      <td>53</td>\n",
       "      <td>9</td>\n",
       "      <td>99</td>\n",
       "      <td>0</td>\n",
       "      <td>0</td>\n",
       "      <td>2</td>\n",
       "      <td>...</td>\n",
       "      <td>20</td>\n",
       "      <td>1</td>\n",
       "      <td>93</td>\n",
       "      <td>10</td>\n",
       "      <td>96</td>\n",
       "      <td>1</td>\n",
       "      <td>96</td>\n",
       "      <td>1</td>\n",
       "      <td>79</td>\n",
       "      <td>3</td>\n",
       "    </tr>\n",
       "  </tbody>\n",
       "</table>\n",
       "<p>5 rows × 73 columns</p>\n",
       "</div>"
      ],
      "text/plain": [
       "         AGE  INCOME  WEALTH1  VIETVETS  WWIIVETS  WEALTH2  POP90C1  POP90C2  \\\n",
       "0  60.000000       5        9        34        18        5        0       35   \n",
       "1  46.000000       6        9        55        11        9       99        0   \n",
       "2  61.611649       3        1        29        33        1        0        2   \n",
       "3  70.000000       1        4        14        31        0        0        8   \n",
       "4  78.000000       3        2         9        53        9       99        0   \n",
       "\n",
       "   POP90C3  ETH1  ...  DOB_YR  DOB_MM  MINRDATE_YR  MINRDATE_MM  MAXRDATE_YR  \\\n",
       "0       65    92  ...      37      12           92            8           94   \n",
       "1        0    67  ...      52       2           93           10           95   \n",
       "2       98    96  ...       0       2           91           11           92   \n",
       "3       92    61  ...      28       1           87           11           94   \n",
       "4        0     2  ...      20       1           93           10           96   \n",
       "\n",
       "   MAXRDATE_MM  LASTDATE_YR  LASTDATE_MM  FIRSTDATE_YR  FIRSTDATE_MM  \n",
       "0            2           95           12            89            11  \n",
       "1           12           95           12            93            10  \n",
       "2            7           95           12            90             1  \n",
       "3           11           95           12            87             2  \n",
       "4            1           96            1            79             3  \n",
       "\n",
       "[5 rows x 73 columns]"
      ]
     },
     "execution_count": 36,
     "metadata": {},
     "output_type": "execute_result"
    }
   ],
   "source": [
    "numerical.head()"
   ]
  },
  {
   "cell_type": "code",
   "execution_count": 16,
   "id": "899a9096-20d1-4fa9-a73e-edef2f1feefa",
   "metadata": {},
   "outputs": [],
   "source": [
    "X = pd.concat([numerical, categorical], axis = 1)\n",
    "y = targets['TARGET_B']"
   ]
  },
  {
   "cell_type": "code",
   "execution_count": 17,
   "id": "892b04df-6e34-4070-b5b0-5be7319c46f7",
   "metadata": {},
   "outputs": [
    {
     "data": {
      "text/plain": [
       "(95412, 58)"
      ]
     },
     "execution_count": 17,
     "metadata": {},
     "output_type": "execute_result"
    }
   ],
   "source": [
    "numerical.shape"
   ]
  },
  {
   "cell_type": "code",
   "execution_count": 18,
   "id": "c420bab0-6f91-4a41-81d9-7d1dbb749f0d",
   "metadata": {},
   "outputs": [
    {
     "data": {
      "text/plain": [
       "(95412, 80)"
      ]
     },
     "execution_count": 18,
     "metadata": {},
     "output_type": "execute_result"
    }
   ],
   "source": [
    "X.shape"
   ]
  },
  {
   "cell_type": "code",
   "execution_count": 19,
   "id": "eb907646-3771-4fee-814d-93fc48236473",
   "metadata": {},
   "outputs": [
    {
     "data": {
      "text/plain": [
       "(95412, 22)"
      ]
     },
     "execution_count": 19,
     "metadata": {},
     "output_type": "execute_result"
    }
   ],
   "source": [
    "categorical.shape"
   ]
  },
  {
   "cell_type": "code",
   "execution_count": null,
   "id": "b9eaf9b3-9f95-4d16-8b16-6415a67e2227",
   "metadata": {},
   "outputs": [],
   "source": []
  },
  {
   "cell_type": "markdown",
   "id": "e0123b79-b436-4479-a11f-60e828ffcdd3",
   "metadata": {},
   "source": [
    "TESTING FOREST RANDOM MODEL"
   ]
  },
  {
   "cell_type": "code",
   "execution_count": 21,
   "id": "45f7ee3c-dc19-4b77-835a-3e7a84135077",
   "metadata": {},
   "outputs": [],
   "source": [
    "from sklearn.model_selection import train_test_split\n",
    "X_train, X_test, y_train, y_test = train_test_split(X, y, test_size=0.2, random_state=0)"
   ]
  },
  {
   "cell_type": "code",
   "execution_count": 25,
   "id": "a6c15409-f04c-476c-b0a4-4a25d5d056a0",
   "metadata": {},
   "outputs": [
    {
     "data": {
      "text/plain": [
       "(95412, 80)"
      ]
     },
     "execution_count": 25,
     "metadata": {},
     "output_type": "execute_result"
    }
   ],
   "source": [
    "X.shape"
   ]
  },
  {
   "cell_type": "code",
   "execution_count": 35,
   "id": "584216c0-101a-4906-af34-e90ca83e84bd",
   "metadata": {},
   "outputs": [
    {
     "data": {
      "text/html": [
       "<div>\n",
       "<style scoped>\n",
       "    .dataframe tbody tr th:only-of-type {\n",
       "        vertical-align: middle;\n",
       "    }\n",
       "\n",
       "    .dataframe tbody tr th {\n",
       "        vertical-align: top;\n",
       "    }\n",
       "\n",
       "    .dataframe thead th {\n",
       "        text-align: right;\n",
       "    }\n",
       "</style>\n",
       "<table border=\"1\" class=\"dataframe\">\n",
       "  <thead>\n",
       "    <tr style=\"text-align: right;\">\n",
       "      <th></th>\n",
       "      <th>AGE</th>\n",
       "      <th>INCOME</th>\n",
       "      <th>WEALTH1</th>\n",
       "      <th>VIETVETS</th>\n",
       "      <th>WWIIVETS</th>\n",
       "      <th>WEALTH2</th>\n",
       "      <th>POP90C1</th>\n",
       "      <th>POP90C2</th>\n",
       "      <th>POP90C3</th>\n",
       "      <th>ETH1</th>\n",
       "      <th>...</th>\n",
       "      <th>RFA_2A_F</th>\n",
       "      <th>RFA_2A_G</th>\n",
       "      <th>GEOCODE2_B</th>\n",
       "      <th>GEOCODE2_C</th>\n",
       "      <th>GEOCODE2_D</th>\n",
       "      <th>DOMAIN_A_R</th>\n",
       "      <th>DOMAIN_A_S</th>\n",
       "      <th>DOMAIN_A_T</th>\n",
       "      <th>DOMAIN_A_U</th>\n",
       "      <th>TARGET_B</th>\n",
       "    </tr>\n",
       "  </thead>\n",
       "  <tbody>\n",
       "    <tr>\n",
       "      <th>0</th>\n",
       "      <td>0.762887</td>\n",
       "      <td>0.500000</td>\n",
       "      <td>0.666667</td>\n",
       "      <td>0.101010</td>\n",
       "      <td>0.686869</td>\n",
       "      <td>1.000000</td>\n",
       "      <td>1.000000</td>\n",
       "      <td>0.0</td>\n",
       "      <td>0.000000</td>\n",
       "      <td>0.757576</td>\n",
       "      <td>...</td>\n",
       "      <td>0.0</td>\n",
       "      <td>0.0</td>\n",
       "      <td>1.0</td>\n",
       "      <td>0.0</td>\n",
       "      <td>0.0</td>\n",
       "      <td>0.0</td>\n",
       "      <td>0.0</td>\n",
       "      <td>0.0</td>\n",
       "      <td>0.0</td>\n",
       "      <td>0</td>\n",
       "    </tr>\n",
       "    <tr>\n",
       "      <th>1</th>\n",
       "      <td>0.536082</td>\n",
       "      <td>0.666667</td>\n",
       "      <td>1.000000</td>\n",
       "      <td>0.242424</td>\n",
       "      <td>0.383838</td>\n",
       "      <td>1.000000</td>\n",
       "      <td>0.000000</td>\n",
       "      <td>0.0</td>\n",
       "      <td>1.000000</td>\n",
       "      <td>0.757576</td>\n",
       "      <td>...</td>\n",
       "      <td>1.0</td>\n",
       "      <td>0.0</td>\n",
       "      <td>0.0</td>\n",
       "      <td>1.0</td>\n",
       "      <td>0.0</td>\n",
       "      <td>1.0</td>\n",
       "      <td>0.0</td>\n",
       "      <td>0.0</td>\n",
       "      <td>0.0</td>\n",
       "      <td>0</td>\n",
       "    </tr>\n",
       "    <tr>\n",
       "      <th>2</th>\n",
       "      <td>0.608247</td>\n",
       "      <td>0.666667</td>\n",
       "      <td>0.111111</td>\n",
       "      <td>0.161616</td>\n",
       "      <td>0.626263</td>\n",
       "      <td>0.111111</td>\n",
       "      <td>1.000000</td>\n",
       "      <td>0.0</td>\n",
       "      <td>0.000000</td>\n",
       "      <td>0.989899</td>\n",
       "      <td>...</td>\n",
       "      <td>0.0</td>\n",
       "      <td>0.0</td>\n",
       "      <td>0.0</td>\n",
       "      <td>0.0</td>\n",
       "      <td>0.0</td>\n",
       "      <td>0.0</td>\n",
       "      <td>0.0</td>\n",
       "      <td>0.0</td>\n",
       "      <td>0.0</td>\n",
       "      <td>1</td>\n",
       "    </tr>\n",
       "    <tr>\n",
       "      <th>3</th>\n",
       "      <td>0.783505</td>\n",
       "      <td>0.833333</td>\n",
       "      <td>0.666667</td>\n",
       "      <td>0.232323</td>\n",
       "      <td>0.414141</td>\n",
       "      <td>0.666667</td>\n",
       "      <td>1.000000</td>\n",
       "      <td>0.0</td>\n",
       "      <td>0.000000</td>\n",
       "      <td>0.787879</td>\n",
       "      <td>...</td>\n",
       "      <td>1.0</td>\n",
       "      <td>0.0</td>\n",
       "      <td>0.0</td>\n",
       "      <td>0.0</td>\n",
       "      <td>0.0</td>\n",
       "      <td>0.0</td>\n",
       "      <td>0.0</td>\n",
       "      <td>0.0</td>\n",
       "      <td>1.0</td>\n",
       "      <td>0</td>\n",
       "    </tr>\n",
       "    <tr>\n",
       "      <th>4</th>\n",
       "      <td>0.556701</td>\n",
       "      <td>0.666667</td>\n",
       "      <td>0.222222</td>\n",
       "      <td>0.292929</td>\n",
       "      <td>0.181818</td>\n",
       "      <td>1.000000</td>\n",
       "      <td>0.939394</td>\n",
       "      <td>0.0</td>\n",
       "      <td>0.070707</td>\n",
       "      <td>0.888889</td>\n",
       "      <td>...</td>\n",
       "      <td>1.0</td>\n",
       "      <td>0.0</td>\n",
       "      <td>1.0</td>\n",
       "      <td>0.0</td>\n",
       "      <td>0.0</td>\n",
       "      <td>0.0</td>\n",
       "      <td>0.0</td>\n",
       "      <td>0.0</td>\n",
       "      <td>0.0</td>\n",
       "      <td>0</td>\n",
       "    </tr>\n",
       "  </tbody>\n",
       "</table>\n",
       "<p>5 rows × 98 columns</p>\n",
       "</div>"
      ],
      "text/plain": [
       "        AGE    INCOME   WEALTH1  VIETVETS  WWIIVETS   WEALTH2   POP90C1  \\\n",
       "0  0.762887  0.500000  0.666667  0.101010  0.686869  1.000000  1.000000   \n",
       "1  0.536082  0.666667  1.000000  0.242424  0.383838  1.000000  0.000000   \n",
       "2  0.608247  0.666667  0.111111  0.161616  0.626263  0.111111  1.000000   \n",
       "3  0.783505  0.833333  0.666667  0.232323  0.414141  0.666667  1.000000   \n",
       "4  0.556701  0.666667  0.222222  0.292929  0.181818  1.000000  0.939394   \n",
       "\n",
       "   POP90C2   POP90C3      ETH1  ...  RFA_2A_F  RFA_2A_G  GEOCODE2_B  \\\n",
       "0      0.0  0.000000  0.757576  ...       0.0       0.0         1.0   \n",
       "1      0.0  1.000000  0.757576  ...       1.0       0.0         0.0   \n",
       "2      0.0  0.000000  0.989899  ...       0.0       0.0         0.0   \n",
       "3      0.0  0.000000  0.787879  ...       1.0       0.0         0.0   \n",
       "4      0.0  0.070707  0.888889  ...       1.0       0.0         1.0   \n",
       "\n",
       "   GEOCODE2_C  GEOCODE2_D  DOMAIN_A_R  DOMAIN_A_S  DOMAIN_A_T  DOMAIN_A_U  \\\n",
       "0         0.0         0.0         0.0         0.0         0.0         0.0   \n",
       "1         1.0         0.0         1.0         0.0         0.0         0.0   \n",
       "2         0.0         0.0         0.0         0.0         0.0         0.0   \n",
       "3         0.0         0.0         0.0         0.0         0.0         1.0   \n",
       "4         0.0         0.0         0.0         0.0         0.0         0.0   \n",
       "\n",
       "   TARGET_B  \n",
       "0         0  \n",
       "1         0  \n",
       "2         1  \n",
       "3         0  \n",
       "4         0  \n",
       "\n",
       "[5 rows x 98 columns]"
      ]
     },
     "execution_count": 35,
     "metadata": {},
     "output_type": "execute_result"
    }
   ],
   "source": [
    "X.head()"
   ]
  },
  {
   "cell_type": "markdown",
   "id": "1e54aae5-8fc0-4918-a616-ecbba803a4c3",
   "metadata": {},
   "source": [
    "checking if numerical and categorical are right, and chaning this in case"
   ]
  },
  {
   "cell_type": "code",
   "execution_count": 37,
   "id": "0ab0cbcc-e28f-4690-ad6b-422e819da6b4",
   "metadata": {},
   "outputs": [],
   "source": [
    "numericalX  = X.select_dtypes(np.number)\n",
    "categoricalX  = X.select_dtypes(object)"
   ]
  },
  {
   "cell_type": "code",
   "execution_count": 38,
   "id": "55ecbb90-16e5-4fab-b77a-9770d8d9926a",
   "metadata": {},
   "outputs": [],
   "source": [
    "numericalX_train   = X_train.select_dtypes(np.number)\n",
    "numericalX_test    = X_test.select_dtypes(np.number)\n",
    "categoricalX_train = X_train.select_dtypes(object) \n",
    "categoricalX_test  = X_test.select_dtypes(object) \n"
   ]
  },
  {
   "cell_type": "code",
   "execution_count": 39,
   "id": "38449328-8304-4b88-a469-e18d7a6054d8",
   "metadata": {},
   "outputs": [
    {
     "data": {
      "text/plain": [
       "(76329, 73)"
      ]
     },
     "execution_count": 39,
     "metadata": {},
     "output_type": "execute_result"
    }
   ],
   "source": [
    "numericalX_train.shape"
   ]
  },
  {
   "cell_type": "code",
   "execution_count": 40,
   "id": "f0f07293-a2a7-4ae4-a9f9-95a51b9f3dc8",
   "metadata": {},
   "outputs": [],
   "source": [
    "\n",
    "# we OneHotEncode the categoricals so we can use the same dataset to perform a regression later (in the lab).\n",
    "# it is not needed for a DecisionTree or RandomForest model\n",
    "from sklearn.preprocessing import OneHotEncoder\n",
    "encoder = OneHotEncoder(drop='first').fit(categoricalX_train)\n",
    "encoded_categorical_train = encoder.transform(categoricalX_train).toarray()\n",
    "encoded_categorical_train = pd.DataFrame(encoded_categorical_train, columns=encoder.get_feature_names_out()) # needed to avoid error\n",
    "encoded_categorical_test = encoder.transform(categoricalX_test).toarray()\n",
    "encoded_categorical_test = pd.DataFrame(encoded_categorical_test, columns=encoder.get_feature_names_out())\n",
    "\n",
    "# we scale the numericals so we can use the same dataset to perform a regression later (in the lab).\n",
    "# it is not needed for a DecisionTree or RandomForest model\n",
    "from sklearn.preprocessing import MinMaxScaler\n",
    "transformer = MinMaxScaler().fit(numericalX_train)\n",
    "scaled_numerical_train = transformer.transform(numericalX_train)\n",
    "scaled_numerical_train = pd.DataFrame(scaled_numerical_train, columns=numericalX_train.columns)\n",
    "scaled_numerical_test  = transformer.transform(numericalX_test)\n",
    "scaled_numerical_test  = pd.DataFrame(scaled_numerical_test, columns=numericalX_train.columns)\n",
    "\n",
    "X_train_treated = pd.concat([scaled_numerical_train, encoded_categorical_train], axis = 1)\n",
    "X_test_treated  = pd.concat([scaled_numerical_test,  encoded_categorical_test],  axis = 1)"
   ]
  },
  {
   "cell_type": "code",
   "execution_count": 41,
   "id": "a1715714-0c6b-4e0f-b1e8-6b841f5d74dd",
   "metadata": {},
   "outputs": [],
   "source": [
    "X_train_aggragrated = pd.concat([X_train_treated, y_train.reset_index(drop=True)], axis = 1)"
   ]
  },
  {
   "cell_type": "code",
   "execution_count": 42,
   "id": "68d68f11-4390-4b8a-b11e-dc85f6871dea",
   "metadata": {},
   "outputs": [],
   "source": [
    "from imblearn.over_sampling import RandomOverSampler\n",
    "\n",
    "X = X_train_aggragrated\n",
    "y = X_train_aggragrated['TARGET_B']  \n",
    "\n",
    "ros = RandomOverSampler(sampling_strategy='minority', random_state=0)\n",
    "\n",
    "X_train_resampled, y_train_resampled = ros.fit_resample(X, y)"
   ]
  },
  {
   "cell_type": "code",
   "execution_count": 43,
   "id": "d25be6b2-59a0-40c3-b041-ff93865ca43c",
   "metadata": {},
   "outputs": [],
   "source": [
    "X_train_resampled.drop('TARGET_B', axis=1, inplace=True)"
   ]
  },
  {
   "cell_type": "code",
   "execution_count": 34,
   "id": "b7d1c79f-eb0f-4eed-bf8f-8e14f5c35702",
   "metadata": {},
   "outputs": [
    {
     "name": "stdout",
     "output_type": "stream",
     "text": [
      "0.6264244129900947\n",
      "0.5950846302992192\n"
     ]
    },
    {
     "data": {
      "text/plain": [
       "0    18083\n",
       "1     1000\n",
       "Name: TARGET_B, dtype: int64"
      ]
     },
     "metadata": {},
     "output_type": "display_data"
    },
    {
     "data": {
      "text/plain": [
       "array([[10795,  7288],\n",
       "       [  439,   561]])"
      ]
     },
     "metadata": {},
     "output_type": "display_data"
    }
   ],
   "source": [
    "from sklearn.ensemble import RandomForestClassifier\n",
    "from sklearn.metrics import confusion_matrix\n",
    "\n",
    "clf = RandomForestClassifier(max_depth=5, # max number of questions to ask\n",
    "                             min_samples_split=20, # amount of rows still considered at every question\n",
    "                             min_samples_leaf =20, # ultimate answer based on at least this many rows\n",
    "                             max_samples=0.8, # fraction of X-train to use in each tree\n",
    "                             random_state=42)\n",
    "clf.fit(X_train_resampled, y_train_resampled)\n",
    "print(clf.score(X_train_resampled, y_train_resampled))\n",
    "print(clf.score(X_test_treated, y_test))\n",
    "\n",
    "y_pred = clf.predict(X_test_treated)\n",
    "display(y_test.value_counts())\n",
    "display(confusion_matrix(y_test, y_pred))"
   ]
  },
  {
   "cell_type": "markdown",
   "id": "db4dbb22-24bc-4b28-9964-735f96752179",
   "metadata": {},
   "source": [
    "The model is quite good, I am going to use it for the whole df"
   ]
  },
  {
   "cell_type": "code",
   "execution_count": 44,
   "id": "78a90e92-bb2e-42d9-ab02-4cc4b4f6b8a6",
   "metadata": {},
   "outputs": [],
   "source": [
    "encoded_categorical = encoder.transform(categorical).toarray()\n",
    "encoded_categorical_df = pd.DataFrame(encoded_categorical, columns=encoder.get_feature_names_out())"
   ]
  },
  {
   "cell_type": "code",
   "execution_count": 46,
   "id": "9e1e2cab-66ec-45a4-a659-a3ddfcd65a1e",
   "metadata": {},
   "outputs": [
    {
     "ename": "AttributeError",
     "evalue": "'numpy.ndarray' object has no attribute 'head'",
     "output_type": "error",
     "traceback": [
      "\u001b[0;31m---------------------------------------------------------------------------\u001b[0m",
      "\u001b[0;31mAttributeError\u001b[0m                            Traceback (most recent call last)",
      "Cell \u001b[0;32mIn[46], line 1\u001b[0m\n\u001b[0;32m----> 1\u001b[0m \u001b[43mencoded_categorical\u001b[49m\u001b[38;5;241;43m.\u001b[39;49m\u001b[43mhead\u001b[49m()\n",
      "\u001b[0;31mAttributeError\u001b[0m: 'numpy.ndarray' object has no attribute 'head'"
     ]
    }
   ],
   "source": [
    "encoded_categorical.head()"
   ]
  },
  {
   "cell_type": "code",
   "execution_count": 45,
   "id": "ef569860-2272-4191-add8-cecd47a39ee1",
   "metadata": {},
   "outputs": [
    {
     "name": "stderr",
     "output_type": "stream",
     "text": [
      "/Users/v.adragna/anaconda3/lib/python3.10/site-packages/sklearn/base.py:420: UserWarning: X does not have valid feature names, but OneHotEncoder was fitted with feature names\n",
      "  warnings.warn(\n"
     ]
    },
    {
     "ename": "ValueError",
     "evalue": "X has 0 features, but OneHotEncoder is expecting 7 features as input.",
     "output_type": "error",
     "traceback": [
      "\u001b[0;31m---------------------------------------------------------------------------\u001b[0m",
      "\u001b[0;31mValueError\u001b[0m                                Traceback (most recent call last)",
      "Cell \u001b[0;32mIn[45], line 12\u001b[0m\n\u001b[1;32m      8\u001b[0m categoricalX \u001b[38;5;241m=\u001b[39m X\u001b[38;5;241m.\u001b[39mselect_dtypes(\u001b[38;5;28mobject\u001b[39m)\n\u001b[1;32m     10\u001b[0m \u001b[38;5;66;03m# One-hot encode categorical features\u001b[39;00m\n\u001b[1;32m     11\u001b[0m \u001b[38;5;66;03m# encoder = OneHotEncoder(drop='first').fit(categoricalX)\u001b[39;00m\n\u001b[0;32m---> 12\u001b[0m encoded_categorical \u001b[38;5;241m=\u001b[39m \u001b[43mencoder\u001b[49m\u001b[38;5;241;43m.\u001b[39;49m\u001b[43mtransform\u001b[49m\u001b[43m(\u001b[49m\u001b[43mcategoricalX\u001b[49m\u001b[43m)\u001b[49m\u001b[38;5;241m.\u001b[39mtoarray()\n\u001b[1;32m     13\u001b[0m encoded_categorical \u001b[38;5;241m=\u001b[39m pd\u001b[38;5;241m.\u001b[39mDataFrame(encoded_categorical, columns\u001b[38;5;241m=\u001b[39mencoder\u001b[38;5;241m.\u001b[39mget_feature_names_out())\n\u001b[1;32m     15\u001b[0m \u001b[38;5;66;03m# Scale numerical features using MinMaxScaler\u001b[39;00m\n\u001b[1;32m     16\u001b[0m \u001b[38;5;66;03m# scaler = MinMaxScaler().fit(numericalX)\u001b[39;00m\n",
      "File \u001b[0;32m~/anaconda3/lib/python3.10/site-packages/sklearn/utils/_set_output.py:142\u001b[0m, in \u001b[0;36m_wrap_method_output.<locals>.wrapped\u001b[0;34m(self, X, *args, **kwargs)\u001b[0m\n\u001b[1;32m    140\u001b[0m \u001b[38;5;129m@wraps\u001b[39m(f)\n\u001b[1;32m    141\u001b[0m \u001b[38;5;28;01mdef\u001b[39;00m \u001b[38;5;21mwrapped\u001b[39m(\u001b[38;5;28mself\u001b[39m, X, \u001b[38;5;241m*\u001b[39margs, \u001b[38;5;241m*\u001b[39m\u001b[38;5;241m*\u001b[39mkwargs):\n\u001b[0;32m--> 142\u001b[0m     data_to_wrap \u001b[38;5;241m=\u001b[39m \u001b[43mf\u001b[49m\u001b[43m(\u001b[49m\u001b[38;5;28;43mself\u001b[39;49m\u001b[43m,\u001b[49m\u001b[43m \u001b[49m\u001b[43mX\u001b[49m\u001b[43m,\u001b[49m\u001b[43m \u001b[49m\u001b[38;5;241;43m*\u001b[39;49m\u001b[43margs\u001b[49m\u001b[43m,\u001b[49m\u001b[43m \u001b[49m\u001b[38;5;241;43m*\u001b[39;49m\u001b[38;5;241;43m*\u001b[39;49m\u001b[43mkwargs\u001b[49m\u001b[43m)\u001b[49m\n\u001b[1;32m    143\u001b[0m     \u001b[38;5;28;01mif\u001b[39;00m \u001b[38;5;28misinstance\u001b[39m(data_to_wrap, \u001b[38;5;28mtuple\u001b[39m):\n\u001b[1;32m    144\u001b[0m         \u001b[38;5;66;03m# only wrap the first output for cross decomposition\u001b[39;00m\n\u001b[1;32m    145\u001b[0m         \u001b[38;5;28;01mreturn\u001b[39;00m (\n\u001b[1;32m    146\u001b[0m             _wrap_data_with_container(method, data_to_wrap[\u001b[38;5;241m0\u001b[39m], X, \u001b[38;5;28mself\u001b[39m),\n\u001b[1;32m    147\u001b[0m             \u001b[38;5;241m*\u001b[39mdata_to_wrap[\u001b[38;5;241m1\u001b[39m:],\n\u001b[1;32m    148\u001b[0m         )\n",
      "File \u001b[0;32m~/anaconda3/lib/python3.10/site-packages/sklearn/preprocessing/_encoders.py:877\u001b[0m, in \u001b[0;36mOneHotEncoder.transform\u001b[0;34m(self, X)\u001b[0m\n\u001b[1;32m    872\u001b[0m \u001b[38;5;66;03m# validation of X happens in _check_X called by _transform\u001b[39;00m\n\u001b[1;32m    873\u001b[0m warn_on_unknown \u001b[38;5;241m=\u001b[39m \u001b[38;5;28mself\u001b[39m\u001b[38;5;241m.\u001b[39mdrop \u001b[38;5;129;01mis\u001b[39;00m \u001b[38;5;129;01mnot\u001b[39;00m \u001b[38;5;28;01mNone\u001b[39;00m \u001b[38;5;129;01mand\u001b[39;00m \u001b[38;5;28mself\u001b[39m\u001b[38;5;241m.\u001b[39mhandle_unknown \u001b[38;5;129;01min\u001b[39;00m {\n\u001b[1;32m    874\u001b[0m     \u001b[38;5;124m\"\u001b[39m\u001b[38;5;124mignore\u001b[39m\u001b[38;5;124m\"\u001b[39m,\n\u001b[1;32m    875\u001b[0m     \u001b[38;5;124m\"\u001b[39m\u001b[38;5;124minfrequent_if_exist\u001b[39m\u001b[38;5;124m\"\u001b[39m,\n\u001b[1;32m    876\u001b[0m }\n\u001b[0;32m--> 877\u001b[0m X_int, X_mask \u001b[38;5;241m=\u001b[39m \u001b[38;5;28;43mself\u001b[39;49m\u001b[38;5;241;43m.\u001b[39;49m\u001b[43m_transform\u001b[49m\u001b[43m(\u001b[49m\n\u001b[1;32m    878\u001b[0m \u001b[43m    \u001b[49m\u001b[43mX\u001b[49m\u001b[43m,\u001b[49m\n\u001b[1;32m    879\u001b[0m \u001b[43m    \u001b[49m\u001b[43mhandle_unknown\u001b[49m\u001b[38;5;241;43m=\u001b[39;49m\u001b[38;5;28;43mself\u001b[39;49m\u001b[38;5;241;43m.\u001b[39;49m\u001b[43mhandle_unknown\u001b[49m\u001b[43m,\u001b[49m\n\u001b[1;32m    880\u001b[0m \u001b[43m    \u001b[49m\u001b[43mforce_all_finite\u001b[49m\u001b[38;5;241;43m=\u001b[39;49m\u001b[38;5;124;43m\"\u001b[39;49m\u001b[38;5;124;43mallow-nan\u001b[39;49m\u001b[38;5;124;43m\"\u001b[39;49m\u001b[43m,\u001b[49m\n\u001b[1;32m    881\u001b[0m \u001b[43m    \u001b[49m\u001b[43mwarn_on_unknown\u001b[49m\u001b[38;5;241;43m=\u001b[39;49m\u001b[43mwarn_on_unknown\u001b[49m\u001b[43m,\u001b[49m\n\u001b[1;32m    882\u001b[0m \u001b[43m\u001b[49m\u001b[43m)\u001b[49m\n\u001b[1;32m    883\u001b[0m \u001b[38;5;28mself\u001b[39m\u001b[38;5;241m.\u001b[39m_map_infrequent_categories(X_int, X_mask)\n\u001b[1;32m    885\u001b[0m n_samples, n_features \u001b[38;5;241m=\u001b[39m X_int\u001b[38;5;241m.\u001b[39mshape\n",
      "File \u001b[0;32m~/anaconda3/lib/python3.10/site-packages/sklearn/preprocessing/_encoders.py:155\u001b[0m, in \u001b[0;36m_BaseEncoder._transform\u001b[0;34m(self, X, handle_unknown, force_all_finite, warn_on_unknown)\u001b[0m\n\u001b[1;32m    151\u001b[0m \u001b[38;5;28;01mdef\u001b[39;00m \u001b[38;5;21m_transform\u001b[39m(\n\u001b[1;32m    152\u001b[0m     \u001b[38;5;28mself\u001b[39m, X, handle_unknown\u001b[38;5;241m=\u001b[39m\u001b[38;5;124m\"\u001b[39m\u001b[38;5;124merror\u001b[39m\u001b[38;5;124m\"\u001b[39m, force_all_finite\u001b[38;5;241m=\u001b[39m\u001b[38;5;28;01mTrue\u001b[39;00m, warn_on_unknown\u001b[38;5;241m=\u001b[39m\u001b[38;5;28;01mFalse\u001b[39;00m\n\u001b[1;32m    153\u001b[0m ):\n\u001b[1;32m    154\u001b[0m     \u001b[38;5;28mself\u001b[39m\u001b[38;5;241m.\u001b[39m_check_feature_names(X, reset\u001b[38;5;241m=\u001b[39m\u001b[38;5;28;01mFalse\u001b[39;00m)\n\u001b[0;32m--> 155\u001b[0m     \u001b[38;5;28;43mself\u001b[39;49m\u001b[38;5;241;43m.\u001b[39;49m\u001b[43m_check_n_features\u001b[49m\u001b[43m(\u001b[49m\u001b[43mX\u001b[49m\u001b[43m,\u001b[49m\u001b[43m \u001b[49m\u001b[43mreset\u001b[49m\u001b[38;5;241;43m=\u001b[39;49m\u001b[38;5;28;43;01mFalse\u001b[39;49;00m\u001b[43m)\u001b[49m\n\u001b[1;32m    156\u001b[0m     X_list, n_samples, n_features \u001b[38;5;241m=\u001b[39m \u001b[38;5;28mself\u001b[39m\u001b[38;5;241m.\u001b[39m_check_X(\n\u001b[1;32m    157\u001b[0m         X, force_all_finite\u001b[38;5;241m=\u001b[39mforce_all_finite\n\u001b[1;32m    158\u001b[0m     )\n\u001b[1;32m    160\u001b[0m     X_int \u001b[38;5;241m=\u001b[39m np\u001b[38;5;241m.\u001b[39mzeros((n_samples, n_features), dtype\u001b[38;5;241m=\u001b[39m\u001b[38;5;28mint\u001b[39m)\n",
      "File \u001b[0;32m~/anaconda3/lib/python3.10/site-packages/sklearn/base.py:370\u001b[0m, in \u001b[0;36mBaseEstimator._check_n_features\u001b[0;34m(self, X, reset)\u001b[0m\n\u001b[1;32m    367\u001b[0m     \u001b[38;5;28;01mreturn\u001b[39;00m\n\u001b[1;32m    369\u001b[0m \u001b[38;5;28;01mif\u001b[39;00m n_features \u001b[38;5;241m!=\u001b[39m \u001b[38;5;28mself\u001b[39m\u001b[38;5;241m.\u001b[39mn_features_in_:\n\u001b[0;32m--> 370\u001b[0m     \u001b[38;5;28;01mraise\u001b[39;00m \u001b[38;5;167;01mValueError\u001b[39;00m(\n\u001b[1;32m    371\u001b[0m         \u001b[38;5;124mf\u001b[39m\u001b[38;5;124m\"\u001b[39m\u001b[38;5;124mX has \u001b[39m\u001b[38;5;132;01m{\u001b[39;00mn_features\u001b[38;5;132;01m}\u001b[39;00m\u001b[38;5;124m features, but \u001b[39m\u001b[38;5;132;01m{\u001b[39;00m\u001b[38;5;28mself\u001b[39m\u001b[38;5;241m.\u001b[39m\u001b[38;5;18m__class__\u001b[39m\u001b[38;5;241m.\u001b[39m\u001b[38;5;18m__name__\u001b[39m\u001b[38;5;132;01m}\u001b[39;00m\u001b[38;5;124m \u001b[39m\u001b[38;5;124m\"\u001b[39m\n\u001b[1;32m    372\u001b[0m         \u001b[38;5;124mf\u001b[39m\u001b[38;5;124m\"\u001b[39m\u001b[38;5;124mis expecting \u001b[39m\u001b[38;5;132;01m{\u001b[39;00m\u001b[38;5;28mself\u001b[39m\u001b[38;5;241m.\u001b[39mn_features_in_\u001b[38;5;132;01m}\u001b[39;00m\u001b[38;5;124m features as input.\u001b[39m\u001b[38;5;124m\"\u001b[39m\n\u001b[1;32m    373\u001b[0m     )\n",
      "\u001b[0;31mValueError\u001b[0m: X has 0 features, but OneHotEncoder is expecting 7 features as input."
     ]
    }
   ],
   "source": [
    "# Assuming you have your full dataset in X and y\n",
    "import pandas as pd\n",
    "import numpy as np\n",
    "from sklearn.preprocessing import OneHotEncoder, MinMaxScaler\n",
    "\n",
    "# Separate numerical and categorical features\n",
    "numericalX = X.select_dtypes(np.number)\n",
    "categoricalX = X.select_dtypes(object)\n",
    "\n",
    "# One-hot encode categorical features\n",
    "# encoder = OneHotEncoder(drop='first').fit(categoricalX)\n",
    "encoded_categorical = encoder.transform(categoricalX).toarray()\n",
    "encoded_categorical = pd.DataFrame(encoded_categorical, columns=encoder.get_feature_names_out())\n",
    "\n",
    "# Scale numerical features using MinMaxScaler\n",
    "# scaler = MinMaxScaler().fit(numericalX)\n",
    "scaled_numerical = scaler.transform(numericalX)\n",
    "scaled_numerical = pd.DataFrame(scaled_numerical, columns=numericalX.columns)\n",
    "\n",
    "# Combine scaled numerical and encoded categorical features\n",
    "X_treated = pd.concat([scaled_numerical, encoded_categorical], axis=1)\n"
   ]
  },
  {
   "cell_type": "code",
   "execution_count": null,
   "id": "24743eaf-ce61-4c2c-af43-8eb770f4fee1",
   "metadata": {},
   "outputs": [],
   "source": [
    "from sklearn.ensemble import RandomForestClassifier\n",
    "from sklearn.metrics import confusion_matrix\n",
    "\n",
    "# clf = RandomForestClassifier(max_depth=5, # max number of questions to ask\n",
    "#                              min_samples_split=20, # amount of rows still considered at every question\n",
    "#                              min_samples_leaf =20, # ultimate answer based on at least this many rows\n",
    "#                              max_samples=0.8, # fraction of X-train to use in each tree\n",
    "#                              random_state=42)\n",
    "# clf.fit(X_train_treated, y_train)\n",
    "print(clf.score(X_treated, y))\n",
    "\n",
    "y_pred = clf.predict(X_treated)\n",
    "display(y_test.value_counts())\n",
    "display(confusion_matrix(y_treated, y_pred))"
   ]
  },
  {
   "cell_type": "code",
   "execution_count": null,
   "id": "01917f50-f323-415f-974a-58d38bdb73fc",
   "metadata": {},
   "outputs": [],
   "source": []
  },
  {
   "cell_type": "code",
   "execution_count": null,
   "id": "60d2e722-2e9e-40f7-981d-d95fe1bdcd98",
   "metadata": {},
   "outputs": [],
   "source": [
    "X = pd.concat([])"
   ]
  }
 ],
 "metadata": {
  "kernelspec": {
   "display_name": "Python 3 (ipykernel)",
   "language": "python",
   "name": "python3"
  },
  "language_info": {
   "codemirror_mode": {
    "name": "ipython",
    "version": 3
   },
   "file_extension": ".py",
   "mimetype": "text/x-python",
   "name": "python",
   "nbconvert_exporter": "python",
   "pygments_lexer": "ipython3",
   "version": "3.10.9"
  }
 },
 "nbformat": 4,
 "nbformat_minor": 5
}
